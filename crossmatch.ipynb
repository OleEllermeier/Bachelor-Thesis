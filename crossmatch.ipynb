{
 "cells": [
  {
   "cell_type": "markdown",
   "metadata": {},
   "source": [
    "# Crossmatch with old catalogs"
   ]
  },
  {
   "cell_type": "code",
   "execution_count": 236,
   "metadata": {},
   "outputs": [],
   "source": [
    "# Importing needed libraries\n",
    "\n",
    "from astropy.io import fits\n",
    "import numpy as np\n",
    "\n",
    "# Importing the datasets\n",
    "\n",
    "with fits.open('gll_psc_v16.fit') as DR2:\n",
    "    data_3FGL = DR2[1].data\n",
    "\n",
    "with fits.open('gll_psc_v27.fit') as DR2:\n",
    "    data_4FGL = DR2[1].data\n",
    "\n",
    "Name_3FGL = data_3FGL['Source_Name']\n",
    "Class1_3FGL = data_3FGL['CLASS1']\n",
    "\n",
    "Name_4FGL = data_4FGL['Source_Name']\n",
    "Class1_4FGL = data_4FGL['CLASS1']\n",
    "Flux_Band = data_4FGL['Flux_Band']\n",
    "Name_4FGL_3FGL = data_4FGL['ASSOC_FGL']"
   ]
  },
  {
   "cell_type": "markdown",
   "metadata": {},
   "source": [
    "### Finding BCU that have now been classified"
   ]
  },
  {
   "cell_type": "code",
   "execution_count": 286,
   "metadata": {},
   "outputs": [],
   "source": [
    "Flux_Band_BLL_train = []\n",
    "Flux_Band_FSRQ_train = []\n",
    "Flux_Band_Matrix_train = []\n",
    "\n",
    "Flux_Band_BLL_test = []\n",
    "Flux_Band_FSRQ_test = []\n",
    "Flux_Band_Matrix_test = []\n",
    "\n",
    "Class_BLL_train = []\n",
    "Class_FSRQ_train = []\n",
    "Class_Vector_train = []\n",
    "\n",
    "Class_BLL_test = []\n",
    "Class_FSRQ_test = []\n",
    "Class_Vector_test = []\n",
    "\n",
    "for i, class1 in enumerate(Class1_3FGL):\n",
    "    for j, name in enumerate(Name_4FGL_3FGL):\n",
    "        if class1.upper() == 'BLL':\n",
    "            if Name_3FGL[i] == name and Class1_4FGL[j].upper() == 'BLL':\n",
    "                Flux_Band_BLL_train.append(Flux_Band[j])\n",
    "                Flux_Band_Matrix_train.append(Flux_Band[j])\n",
    "\n",
    "                Class_BLL_train.append(1)\n",
    "                Class_Vector_train.append(1)\n",
    "\n",
    "        elif class1.upper() == 'FSRQ':\n",
    "            if Name_3FGL[i] == name and Class1_4FGL[j].upper() == 'FSRQ':\n",
    "                Flux_Band_FSRQ_train.append(Flux_Band[j])\n",
    "                Flux_Band_Matrix_train.append(Flux_Band[j])\n",
    "\n",
    "                Class_FSRQ_train.append(0)\n",
    "                Class_Vector_train.append(0)\n",
    "\n",
    "        else:\n",
    "            if Name_3FGL[i] == name and Class1_4FGL[j].upper() == 'BLL':\n",
    "                Flux_Band_BLL_test.append(Flux_Band[j])\n",
    "                Flux_Band_Matrix_test.append(Flux_Band[j])\n",
    "\n",
    "                Class_BLL_test.append(1)\n",
    "                Class_Vector_test.append(1)\n",
    "\n",
    "            elif Name_3FGL[i] == name and Class1_4FGL[j].upper() == 'FSRQ':\n",
    "                Flux_Band_FSRQ_test.append(Flux_Band[j])\n",
    "                Flux_Band_Matrix_test.append(Flux_Band[j])\n",
    "\n",
    "                Class_FSRQ_test.append(0)\n",
    "                Class_Vector_test.append(0)\n",
    "\n",
    "\n",
    "for i, name in enumerate(Name_4FGL_3FGL):\n",
    "    if name in Name_3FGL:\n",
    "        continue\n",
    "    \n",
    "    else:\n",
    "        if Class1_4FGL[i].upper() == 'BLL':\n",
    "                Flux_Band_BLL_test.append(Flux_Band[i])\n",
    "                Flux_Band_Matrix_test.append(Flux_Band[i])\n",
    "\n",
    "                Class_BLL_test.append(1)\n",
    "                Class_Vector_test.append(1)\n",
    "\n",
    "        elif Class1_4FGL[i].upper() == 'FSRQ':\n",
    "                Flux_Band_FSRQ_test.append(Flux_Band[i])\n",
    "                Flux_Band_Matrix_test.append(Flux_Band[i])\n",
    "\n",
    "                Class_FSRQ_test.append(0)\n",
    "                Class_Vector_test.append(0)\n",
    "        "
   ]
  },
  {
   "cell_type": "code",
   "execution_count": 287,
   "metadata": {},
   "outputs": [
    {
     "name": "stdout",
     "output_type": "stream",
     "text": [
      "(653, 7)\n",
      "(458, 7)\n",
      "(1111, 7)\n",
      "(647, 7)\n",
      "(283, 7)\n",
      "(930, 7)\n"
     ]
    }
   ],
   "source": [
    "Flux_Band_BLL_train = np.array(Flux_Band_BLL_train)\n",
    "Flux_Band_FSRQ_train = np.array(Flux_Band_FSRQ_train)\n",
    "Flux_Band_Matrix_train = np.array(Flux_Band_Matrix_train)\n",
    "\n",
    "Class_BLL_train = np.array(Class_BLL_train)\n",
    "Class_FSRQ_train = np.array(Class_FSRQ_train)\n",
    "Class_Vector_train = np.array(Class_Vector_train)\n",
    "\n",
    "Flux_Band_BLL_test = np.array(Flux_Band_BLL_test)\n",
    "Flux_Band_FSRQ_test = np.array(Flux_Band_FSRQ_test)\n",
    "Flux_Band_Matrix_test = np.array(Flux_Band_Matrix_test)\n",
    "\n",
    "Class_BLL_test = np.array(Class_BLL_test)\n",
    "Class_FSRQ_test = np.array(Class_FSRQ_test)\n",
    "Class_Vector_test = np.array(Class_Vector_test)\n",
    "\n",
    "\n",
    "print(np.shape(Flux_Band_BLL_train))\n",
    "print(np.shape(Flux_Band_FSRQ_train))\n",
    "print(np.shape(Flux_Band_Matrix_train))\n",
    "\n",
    "\n",
    "print(np.shape(Flux_Band_BLL_test))\n",
    "print(np.shape(Flux_Band_FSRQ_test))\n",
    "print(np.shape(Flux_Band_Matrix_test))"
   ]
  },
  {
   "cell_type": "markdown",
   "metadata": {},
   "source": [
    "### Finding BCU that have now been classified with my method"
   ]
  },
  {
   "cell_type": "code",
   "execution_count": 64,
   "metadata": {},
   "outputs": [],
   "source": [
    "Flux_Band_BLL_train = []\n",
    "Flux_Band_FSRQ_train = []\n",
    "Flux_Band_Matrix_train = []\n",
    "\n",
    "Flux_Band_BLL_test = []\n",
    "Flux_Band_FSRQ_test = []\n",
    "Flux_Band_Matrix_test = []\n",
    "\n",
    "Class_BLL_train = []\n",
    "Class_FSRQ_train = []\n",
    "Class_Vector_train = []\n",
    "\n",
    "Class_BLL_test = []\n",
    "Class_FSRQ_test = []\n",
    "Class_Vector_test = []\n",
    "\n",
    "for i, class1 in enumerate(Class1_3FGL):\n",
    "    for j, name in enumerate(Name_4FGL_3FGL):\n",
    "        if class1.upper() == 'BLL':\n",
    "            if Name_3FGL[i] == name and Class1_4FGL[j].upper() == 'BLL':\n",
    "                Flux_Band_BLL_train.append(Flux_Band[j])\n",
    "                Flux_Band_Matrix_train.append(Flux_Band[j])\n",
    "\n",
    "                Class_BLL_train.append(1)\n",
    "                Class_Vector_train.append(1)\n",
    "\n",
    "        elif class1.upper() == 'FSRQ':\n",
    "            if Name_3FGL[i] == name and Class1_4FGL[j].upper() == 'FSRQ':\n",
    "                Flux_Band_FSRQ_train.append(Flux_Band[j])\n",
    "                Flux_Band_Matrix_train.append(Flux_Band[j])\n",
    "\n",
    "                Class_FSRQ_train.append(0)\n",
    "                Class_Vector_train.append(0)\n",
    "\n",
    "        else:\n",
    "            if Name_3FGL[i] == name and Class1_4FGL[j].upper() == 'BLL':\n",
    "                Flux_Band_BLL_test.append(Flux_Band[j])\n",
    "                Flux_Band_Matrix_test.append(Flux_Band[j])\n",
    "\n",
    "                Class_BLL_test.append(1)\n",
    "                Class_Vector_test.append(1)\n",
    "\n",
    "            elif Name_3FGL[i] == name and Class1_4FGL[j].upper() == 'FSRQ':\n",
    "                Flux_Band_FSRQ_test.append(Flux_Band[j])\n",
    "                Flux_Band_Matrix_test.append(Flux_Band[j])\n",
    "\n",
    "                Class_FSRQ_test.append(0)\n",
    "                Class_Vector_test.append(0)\n",
    "\n",
    "\n",
    "for i, name in enumerate(Name_4FGL_3FGL):\n",
    "    if name == '':\n",
    "        if Class1_4FGL[i].upper() == 'BLL':\n",
    "                Flux_Band_BLL_test.append(Flux_Band[i])\n",
    "                Flux_Band_Matrix_test.append(Flux_Band[i])\n",
    "\n",
    "                Class_BLL_test.append(1)\n",
    "                Class_Vector_test.append(1)\n",
    "\n",
    "        elif Class1_4FGL[i].upper() == 'FSRQ':\n",
    "                Flux_Band_FSRQ_test.append(Flux_Band[i])\n",
    "                Flux_Band_Matrix_test.append(Flux_Band[i])\n",
    "\n",
    "                Class_FSRQ_test.append(0)\n",
    "                Class_Vector_test.append(0)"
   ]
  },
  {
   "cell_type": "code",
   "execution_count": 65,
   "metadata": {},
   "outputs": [
    {
     "name": "stdout",
     "output_type": "stream",
     "text": [
      "(653, 7)\n",
      "(458, 7)\n",
      "(1111, 7)\n",
      "(629, 7)\n",
      "(268, 7)\n",
      "(897, 7)\n"
     ]
    }
   ],
   "source": [
    "Flux_Band_BLL_train = np.array(Flux_Band_BLL_train)\n",
    "Flux_Band_FSRQ_train = np.array(Flux_Band_FSRQ_train)\n",
    "Flux_Band_Matrix_train = np.array(Flux_Band_Matrix_train)\n",
    "\n",
    "Class_BLL_train = np.array(Class_BLL_train)\n",
    "Class_FSRQ_train = np.array(Class_FSRQ_train)\n",
    "Class_Vector_train = np.array(Class_Vector_train)\n",
    "\n",
    "Flux_Band_BLL_test = np.array(Flux_Band_BLL_test)\n",
    "Flux_Band_FSRQ_test = np.array(Flux_Band_FSRQ_test)\n",
    "Flux_Band_Matrix_test = np.array(Flux_Band_Matrix_test)\n",
    "\n",
    "Class_BLL_test = np.array(Class_BLL_test)\n",
    "Class_FSRQ_test = np.array(Class_FSRQ_test)\n",
    "Class_Vector_test = np.array(Class_Vector_test)\n",
    "\n",
    "\n",
    "print(np.shape(Flux_Band_BLL_train))\n",
    "print(np.shape(Flux_Band_FSRQ_train))\n",
    "print(np.shape(Flux_Band_Matrix_train))\n",
    "\n",
    "\n",
    "print(np.shape(Flux_Band_BLL_test))\n",
    "print(np.shape(Flux_Band_FSRQ_test))\n",
    "print(np.shape(Flux_Band_Matrix_test))"
   ]
  },
  {
   "cell_type": "markdown",
   "metadata": {},
   "source": [
    "## Calculating the accuracy of the cross-match"
   ]
  },
  {
   "cell_type": "code",
   "execution_count": 288,
   "metadata": {},
   "outputs": [
    {
     "name": "stdout",
     "output_type": "stream",
     "text": [
      "769\n"
     ]
    },
    {
     "data": {
      "text/plain": [
       "8.54**2 * RBF(length_scale=3.59) + 0.024**2 * WhiteKernel(noise_level=0.000574)"
      ]
     },
     "execution_count": 288,
     "metadata": {},
     "output_type": "execute_result"
    }
   ],
   "source": [
    "from sklearn.gaussian_process import GaussianProcessClassifier\n",
    "from sklearn.gaussian_process.kernels import RBF, WhiteKernel\n",
    "from sklearn.preprocessing import StandardScaler\n",
    "from numpy import log10\n",
    "\n",
    "kernel = 1.0 * RBF(length_scale=1.0) + 1.0 * WhiteKernel()\n",
    "\n",
    "gpc = GaussianProcessClassifier(kernel=kernel)\n",
    "\n",
    "X_train, y_train, X_test, y_test = Flux_Band_Matrix_train, Class_Vector_train, Flux_Band_Matrix_test, Class_Vector_test\n",
    "\n",
    "for index, values in enumerate(X_train):\n",
    "    if 0 in values:\n",
    "        X_train = np.delete(X_train, index, 0)\n",
    "        y_train = np.delete(y_train, index, 0)\n",
    "        print(index)\n",
    "\n",
    "for index, values in enumerate(X_test):\n",
    "    if 0 in values:\n",
    "        X_test = np.delete(X_test, index, 0)\n",
    "        y_test = np.delete(y_test, index, 0)\n",
    "        print(index)\n",
    "\n",
    "X_test = StandardScaler().fit_transform(log10(X_test))\n",
    "X_train = StandardScaler().fit_transform(log10(X_train))\n",
    "\n",
    "gpc.fit(X_train, y_train)\n",
    "\n",
    "gpc.kernel_"
   ]
  },
  {
   "cell_type": "code",
   "execution_count": 289,
   "metadata": {},
   "outputs": [
    {
     "name": "stdout",
     "output_type": "stream",
     "text": [
      "0.8460710441334769\n"
     ]
    }
   ],
   "source": [
    "from sklearn.metrics import accuracy_score\n",
    "\n",
    "y_pred = gpc.predict(X_test)\n",
    "\n",
    "print(accuracy_score(y_test, y_pred))"
   ]
  },
  {
   "cell_type": "code",
   "execution_count": 290,
   "metadata": {},
   "outputs": [
    {
     "name": "stdout",
     "output_type": "stream",
     "text": [
      "0.8460710441334769\n",
      "[[238  45]\n",
      " [ 98 548]]\n",
      "TP 548\n",
      "TN 238\n",
      "FP 45\n",
      "FN 98\n"
     ]
    },
    {
     "data": {
      "image/png": "[encoded data removed]",
      "text/plain": [
       "<Figure size 720x432 with 2 Axes>"
      ]
     },
     "metadata": {
      "needs_background": "light"
     },
     "output_type": "display_data"
    }
   ],
   "source": [
    "# Confusion matrix\n",
    "\n",
    "from sklearn import metrics\n",
    "from cf_matrix import make_confusion_matrix\n",
    "\n",
    "confusion = metrics.confusion_matrix(y_test, y_pred)\n",
    "\n",
    "print(metrics.accuracy_score(y_test, y_pred))\n",
    "print(confusion)\n",
    "\n",
    "labels = ['True Neg','False Pos','False Neg','True Pos']\n",
    "categories = ['Zero', 'One']\n",
    "make_confusion_matrix(confusion, group_names=labels, categories=categories, cmap='Blues', figsize=(10,6))\n",
    "\n",
    "TP = confusion[1, 1]\n",
    "TN = confusion[0, 0]\n",
    "FP = confusion[0, 1]\n",
    "FN = confusion[1, 0]\n",
    "\n",
    "print('TP', TP)\n",
    "print('TN', TN)\n",
    "print('FP', FP)\n",
    "print('FN', FN)"
   ]
  },
  {
   "cell_type": "code",
   "execution_count": 291,
   "metadata": {},
   "outputs": [
    {
     "data": {
      "text/plain": [
       "Text(0, 0.5, 'Frequency')"
      ]
     },
     "execution_count": 291,
     "metadata": {},
     "output_type": "execute_result"
    },
    {
     "data": {
      "image/png": "[encoded data removed]",
      "text/plain": [
       "<Figure size 432x288 with 1 Axes>"
      ]
     },
     "metadata": {
      "needs_background": "light"
     },
     "output_type": "display_data"
    }
   ],
   "source": [
    "# Adjusting classification threshold\n",
    "import matplotlib.pyplot as plt\n",
    "\n",
    "# store the predicted probabilities for class 1\n",
    "y_pred_prob = gpc.predict_proba(X_test)[:, 1]\n",
    "\n",
    "# histogram of predicted probabilities\n",
    "plt.hist(y_pred_prob, bins=10)\n",
    "plt.xlim(0, 1)\n",
    "plt.title('Histogram of predicted probabilities (4GPC)')\n",
    "plt.xlabel('Predicted probability of BLL')\n",
    "plt.ylabel('Frequency')"
   ]
  },
  {
   "cell_type": "code",
   "execution_count": 292,
   "metadata": {},
   "outputs": [
    {
     "data": {
      "image/png": "[encoded data removed]",
      "text/plain": [
       "<Figure size 432x288 with 1 Axes>"
      ]
     },
     "metadata": {
      "needs_background": "light"
     },
     "output_type": "display_data"
    }
   ],
   "source": [
    "# ROC Curve\n",
    "\n",
    "# IMPORTANT: first argument is true values, second argument is predicted probabilities\n",
    "fpr, tpr, thresholds = metrics.roc_curve(y_test, y_pred_prob)\n",
    "plt.plot(fpr, tpr)\n",
    "plt.xlim([0.0, 1.0])\n",
    "plt.ylim([0.0, 1.0])\n",
    "plt.title('ROC curve for 4FGL-DR2')\n",
    "plt.xlabel('False Positive Rate (1 - Specificity)')\n",
    "plt.ylabel('True Positive Rate (Sensitivity)')\n",
    "plt.grid(True)"
   ]
  },
  {
   "cell_type": "code",
   "execution_count": 293,
   "metadata": {},
   "outputs": [
    {
     "name": "stdout",
     "output_type": "stream",
     "text": [
      "0.9110536161647103\n"
     ]
    }
   ],
   "source": [
    "# Area Under The Curve\n",
    "\n",
    "# IMPORTANT: first argument is true values, second argument is predicted probabilities\n",
    "print(metrics.roc_auc_score(y_test, y_pred_prob))"
   ]
  },
  {
   "cell_type": "markdown",
   "metadata": {},
   "source": [
    "# Adjusting the classification threshold to maximize either number of classified sources or classification accuracy"
   ]
  },
  {
   "cell_type": "code",
   "execution_count": 297,
   "metadata": {},
   "outputs": [
    {
     "name": "stdout",
     "output_type": "stream",
     "text": [
      "Threshold: 0.6\n",
      "--------------------------------------------------------\n"
     ]
    },
    {
     "ename": "ValueError",
     "evalue": "Expected 2D array, got 1D array instead:\narray=[-1.92307031 -1.46423137  0.12835602 ... -0.34796908 -0.06942488\n -0.93406582].\nReshape your data either using array.reshape(-1, 1) if your data has a single feature or array.reshape(1, -1) if it contains a single sample.",
     "output_type": "error",
     "traceback": [
      "\u001b[1;31m---------------------------------------------------------------------------\u001b[0m",
      "\u001b[1;31mValueError\u001b[0m                                Traceback (most recent call last)",
      "\u001b[1;32m~\\AppData\\Local\\Temp/ipykernel_26432/2003112387.py\u001b[0m in \u001b[0;36m<module>\u001b[1;34m\u001b[0m\n\u001b[0;32m     20\u001b[0m \u001b[0mprint\u001b[0m\u001b[1;33m(\u001b[0m\u001b[1;34m'Threshold:'\u001b[0m\u001b[1;33m,\u001b[0m \u001b[0mthreshold\u001b[0m\u001b[1;33m)\u001b[0m\u001b[1;33m\u001b[0m\u001b[1;33m\u001b[0m\u001b[0m\n\u001b[0;32m     21\u001b[0m \u001b[0mprint\u001b[0m\u001b[1;33m(\u001b[0m\u001b[1;34m'--------------------------------------------------------'\u001b[0m\u001b[1;33m)\u001b[0m\u001b[1;33m\u001b[0m\u001b[1;33m\u001b[0m\u001b[0m\n\u001b[1;32m---> 22\u001b[1;33m \u001b[0my_pred_new\u001b[0m \u001b[1;33m=\u001b[0m \u001b[0mgpc\u001b[0m\u001b[1;33m.\u001b[0m\u001b[0mpredict\u001b[0m\u001b[1;33m(\u001b[0m\u001b[0mX_test_new\u001b[0m\u001b[1;33m)\u001b[0m\u001b[1;33m\u001b[0m\u001b[1;33m\u001b[0m\u001b[0m\n\u001b[0m\u001b[0;32m     23\u001b[0m \u001b[0mprint\u001b[0m\u001b[1;33m(\u001b[0m\u001b[1;34m'Accuracy:'\u001b[0m\u001b[1;33m,\u001b[0m \u001b[0maccuracy_score\u001b[0m\u001b[1;33m(\u001b[0m\u001b[0my_test\u001b[0m\u001b[1;33m,\u001b[0m \u001b[0my_pred_new\u001b[0m\u001b[1;33m)\u001b[0m\u001b[1;33m)\u001b[0m\u001b[1;33m\u001b[0m\u001b[1;33m\u001b[0m\u001b[0m\n\u001b[0;32m     24\u001b[0m \u001b[0my_pred_prob_new\u001b[0m \u001b[1;33m=\u001b[0m \u001b[0mgpc\u001b[0m\u001b[1;33m.\u001b[0m\u001b[0mpredict_proba\u001b[0m\u001b[1;33m(\u001b[0m\u001b[0mX_test_new\u001b[0m\u001b[1;33m)\u001b[0m\u001b[1;33m[\u001b[0m\u001b[1;33m:\u001b[0m\u001b[1;33m,\u001b[0m \u001b[1;36m1\u001b[0m\u001b[1;33m]\u001b[0m\u001b[1;33m\u001b[0m\u001b[1;33m\u001b[0m\u001b[0m\n",
      "\u001b[1;32mc:\\Users\\oleel\\anaconda3\\lib\\site-packages\\sklearn\\gaussian_process\\_gpc.py\u001b[0m in \u001b[0;36mpredict\u001b[1;34m(self, X)\u001b[0m\n\u001b[0;32m    749\u001b[0m \u001b[1;33m\u001b[0m\u001b[0m\n\u001b[0;32m    750\u001b[0m         \u001b[1;32mif\u001b[0m \u001b[0mself\u001b[0m\u001b[1;33m.\u001b[0m\u001b[0mkernel\u001b[0m \u001b[1;32mis\u001b[0m \u001b[1;32mNone\u001b[0m \u001b[1;32mor\u001b[0m \u001b[0mself\u001b[0m\u001b[1;33m.\u001b[0m\u001b[0mkernel\u001b[0m\u001b[1;33m.\u001b[0m\u001b[0mrequires_vector_input\u001b[0m\u001b[1;33m:\u001b[0m\u001b[1;33m\u001b[0m\u001b[1;33m\u001b[0m\u001b[0m\n\u001b[1;32m--> 751\u001b[1;33m             \u001b[0mX\u001b[0m \u001b[1;33m=\u001b[0m \u001b[0mself\u001b[0m\u001b[1;33m.\u001b[0m\u001b[0m_validate_data\u001b[0m\u001b[1;33m(\u001b[0m\u001b[0mX\u001b[0m\u001b[1;33m,\u001b[0m \u001b[0mensure_2d\u001b[0m\u001b[1;33m=\u001b[0m\u001b[1;32mTrue\u001b[0m\u001b[1;33m,\u001b[0m \u001b[0mdtype\u001b[0m\u001b[1;33m=\u001b[0m\u001b[1;34m\"numeric\"\u001b[0m\u001b[1;33m,\u001b[0m \u001b[0mreset\u001b[0m\u001b[1;33m=\u001b[0m\u001b[1;32mFalse\u001b[0m\u001b[1;33m)\u001b[0m\u001b[1;33m\u001b[0m\u001b[1;33m\u001b[0m\u001b[0m\n\u001b[0m\u001b[0;32m    752\u001b[0m         \u001b[1;32melse\u001b[0m\u001b[1;33m:\u001b[0m\u001b[1;33m\u001b[0m\u001b[1;33m\u001b[0m\u001b[0m\n\u001b[0;32m    753\u001b[0m             \u001b[0mX\u001b[0m \u001b[1;33m=\u001b[0m \u001b[0mself\u001b[0m\u001b[1;33m.\u001b[0m\u001b[0m_validate_data\u001b[0m\u001b[1;33m(\u001b[0m\u001b[0mX\u001b[0m\u001b[1;33m,\u001b[0m \u001b[0mensure_2d\u001b[0m\u001b[1;33m=\u001b[0m\u001b[1;32mFalse\u001b[0m\u001b[1;33m,\u001b[0m \u001b[0mdtype\u001b[0m\u001b[1;33m=\u001b[0m\u001b[1;32mNone\u001b[0m\u001b[1;33m,\u001b[0m \u001b[0mreset\u001b[0m\u001b[1;33m=\u001b[0m\u001b[1;32mFalse\u001b[0m\u001b[1;33m)\u001b[0m\u001b[1;33m\u001b[0m\u001b[1;33m\u001b[0m\u001b[0m\n",
      "\u001b[1;32mc:\\Users\\oleel\\anaconda3\\lib\\site-packages\\sklearn\\base.py\u001b[0m in \u001b[0;36m_validate_data\u001b[1;34m(self, X, y, reset, validate_separately, **check_params)\u001b[0m\n\u001b[0;32m    575\u001b[0m             \u001b[1;32mraise\u001b[0m \u001b[0mValueError\u001b[0m\u001b[1;33m(\u001b[0m\u001b[1;34m\"Validation should be done on X, y or both.\"\u001b[0m\u001b[1;33m)\u001b[0m\u001b[1;33m\u001b[0m\u001b[1;33m\u001b[0m\u001b[0m\n\u001b[0;32m    576\u001b[0m         \u001b[1;32melif\u001b[0m \u001b[1;32mnot\u001b[0m \u001b[0mno_val_X\u001b[0m \u001b[1;32mand\u001b[0m \u001b[0mno_val_y\u001b[0m\u001b[1;33m:\u001b[0m\u001b[1;33m\u001b[0m\u001b[1;33m\u001b[0m\u001b[0m\n\u001b[1;32m--> 577\u001b[1;33m             \u001b[0mX\u001b[0m \u001b[1;33m=\u001b[0m \u001b[0mcheck_array\u001b[0m\u001b[1;33m(\u001b[0m\u001b[0mX\u001b[0m\u001b[1;33m,\u001b[0m \u001b[0minput_name\u001b[0m\u001b[1;33m=\u001b[0m\u001b[1;34m\"X\"\u001b[0m\u001b[1;33m,\u001b[0m \u001b[1;33m**\u001b[0m\u001b[0mcheck_params\u001b[0m\u001b[1;33m)\u001b[0m\u001b[1;33m\u001b[0m\u001b[1;33m\u001b[0m\u001b[0m\n\u001b[0m\u001b[0;32m    578\u001b[0m             \u001b[0mout\u001b[0m \u001b[1;33m=\u001b[0m \u001b[0mX\u001b[0m\u001b[1;33m\u001b[0m\u001b[1;33m\u001b[0m\u001b[0m\n\u001b[0;32m    579\u001b[0m         \u001b[1;32melif\u001b[0m \u001b[0mno_val_X\u001b[0m \u001b[1;32mand\u001b[0m \u001b[1;32mnot\u001b[0m \u001b[0mno_val_y\u001b[0m\u001b[1;33m:\u001b[0m\u001b[1;33m\u001b[0m\u001b[1;33m\u001b[0m\u001b[0m\n",
      "\u001b[1;32mc:\\Users\\oleel\\anaconda3\\lib\\site-packages\\sklearn\\utils\\validation.py\u001b[0m in \u001b[0;36mcheck_array\u001b[1;34m(array, accept_sparse, accept_large_sparse, dtype, order, copy, force_all_finite, ensure_2d, allow_nd, ensure_min_samples, ensure_min_features, estimator, input_name)\u001b[0m\n\u001b[0;32m    877\u001b[0m             \u001b[1;31m# If input is 1D raise error\u001b[0m\u001b[1;33m\u001b[0m\u001b[1;33m\u001b[0m\u001b[0m\n\u001b[0;32m    878\u001b[0m             \u001b[1;32mif\u001b[0m \u001b[0marray\u001b[0m\u001b[1;33m.\u001b[0m\u001b[0mndim\u001b[0m \u001b[1;33m==\u001b[0m \u001b[1;36m1\u001b[0m\u001b[1;33m:\u001b[0m\u001b[1;33m\u001b[0m\u001b[1;33m\u001b[0m\u001b[0m\n\u001b[1;32m--> 879\u001b[1;33m                 raise ValueError(\n\u001b[0m\u001b[0;32m    880\u001b[0m                     \u001b[1;34m\"Expected 2D array, got 1D array instead:\\narray={}.\\n\"\u001b[0m\u001b[1;33m\u001b[0m\u001b[1;33m\u001b[0m\u001b[0m\n\u001b[0;32m    881\u001b[0m                     \u001b[1;34m\"Reshape your data either using array.reshape(-1, 1) if \"\u001b[0m\u001b[1;33m\u001b[0m\u001b[1;33m\u001b[0m\u001b[0m\n",
      "\u001b[1;31mValueError\u001b[0m: Expected 2D array, got 1D array instead:\narray=[-1.92307031 -1.46423137  0.12835602 ... -0.34796908 -0.06942488\n -0.93406582].\nReshape your data either using array.reshape(-1, 1) if your data has a single feature or array.reshape(1, -1) if it contains a single sample."
     ]
    }
   ],
   "source": [
    "# hellooooo\n",
    "\n",
    "thresholds = [0.5, 0.55, 0.6, 0.65, 0.7, 0.75, 0.8, 0.85, 0.9, 0.95]\n",
    "\n",
    "threshold = 0.6\n",
    "\n",
    "\n",
    "# X_test = StandardScaler().fit_transform(log10(Flux_Band_Matrix_test))\n",
    "# y_pred_prob = gpc.predict_proba(X_test)[:, 1]\n",
    "X_test_new = np.array([])\n",
    "\n",
    "for i, prob in enumerate(y_pred_prob):\n",
    "    if prob > 0.5 and prob < threshold:\n",
    "        continue\n",
    "    elif prob < 0.5 and prob > 1-threshold:\n",
    "        continue\n",
    "    else:\n",
    "        X_test_new = np.append(X_test_new, X_test[i])\n",
    "\n",
    "print('Threshold:', threshold)\n",
    "print('--------------------------------------------------------')\n",
    "y_pred_new = gpc.predict(X_test_new)\n",
    "print('Accuracy:', accuracy_score(y_test, y_pred_new))\n",
    "y_pred_prob_new = gpc.predict_proba(X_test_new)[:, 1]\n",
    "print('Number of classified sources:', len(y_pred_prob_new))"
   ]
  },
  {
   "cell_type": "code",
   "execution_count": 298,
   "metadata": {},
   "outputs": [
    {
     "data": {
      "text/plain": [
       "array([-1.92307031, -1.46423137,  0.12835602, ..., -0.34796908,\n",
       "       -0.06942488, -0.93406582])"
      ]
     },
     "execution_count": 298,
     "metadata": {},
     "output_type": "execute_result"
    }
   ],
   "source": [
    "X_test_new"
   ]
  },
  {
   "cell_type": "markdown",
   "metadata": {},
   "source": [
    "# Gaussian Process Regression"
   ]
  },
  {
   "cell_type": "code",
   "execution_count": 209,
   "metadata": {},
   "outputs": [
    {
     "name": "stdout",
     "output_type": "stream",
     "text": [
      "769\n"
     ]
    },
    {
     "data": {
      "text/plain": [
       "0.51**2 * RBF(length_scale=9.56) + 0.697**2 * RationalQuadratic(alpha=0.0911, length_scale=2.9) + 0.438**2 * WhiteKernel(noise_level=0.192) + 0.176**2 * Matern(length_scale=0.208, nu=1.5)"
      ]
     },
     "execution_count": 209,
     "metadata": {},
     "output_type": "execute_result"
    }
   ],
   "source": [
    "from sklearn.gaussian_process import GaussianProcessRegressor\n",
    "from sklearn.gaussian_process.kernels import WhiteKernel, RationalQuadratic, Matern\n",
    "\n",
    "kernel= 1.0 * RBF(length_scale=1.0) + 1.0 * RationalQuadratic() + 1.0 * WhiteKernel() + 1.0 * Matern(length_scale=1.0)\n",
    "\n",
    "gpc = GaussianProcessRegressor(kernel=kernel)\n",
    "\n",
    "X_train, y_train, X_test, y_test = Flux_Band_Matrix_train, Class_Vector_train, Flux_Band_Matrix_test, Class_Vector_test\n",
    "\n",
    "for index, values in enumerate(X_train):\n",
    "    if 0 in values:\n",
    "        X_train = np.delete(X_train, index, 0)\n",
    "        y_train = np.delete(y_train, index, 0)\n",
    "        print(index)\n",
    "\n",
    "for index, values in enumerate(X_test):\n",
    "    if 0 in values:\n",
    "        X_test = np.delete(X_test, index, 0)\n",
    "        y_test = np.delete(y_test, index, 0)\n",
    "        print(index)\n",
    "\n",
    "X_test = StandardScaler().fit_transform(log10(X_test))\n",
    "X_train = StandardScaler().fit_transform(log10(X_train))\n",
    "\n",
    "gpc.fit(X_train, y_train)\n",
    "\n",
    "gpc.kernel_"
   ]
  },
  {
   "cell_type": "code",
   "execution_count": 210,
   "metadata": {},
   "outputs": [
    {
     "name": "stdout",
     "output_type": "stream",
     "text": [
      "Mean Absolute Error (MAE): 0.2360489676511172\n",
      "Mean Squared Error (MSE): 0.11871779536036436\n",
      "Root Mean Squared Error (RMSE): 0.34455448823134543\n"
     ]
    }
   ],
   "source": [
    "from sklearn.metrics import mean_absolute_error, mean_squared_error\n",
    "from numpy import sqrt\n",
    "\n",
    "y_pred = gpc.predict(X_test)\n",
    "\n",
    "print('Mean Absolute Error (MAE):', mean_absolute_error(y_test, y_pred))\n",
    "print('Mean Squared Error (MSE):', mean_squared_error(y_test, y_pred))\n",
    "print('Root Mean Squared Error (RMSE):', sqrt(mean_squared_error(y_test, y_pred)))"
   ]
  },
  {
   "cell_type": "code",
   "execution_count": 211,
   "metadata": {},
   "outputs": [
    {
     "data": {
      "text/plain": [
       "Text(0, 0.5, 'Frequency')"
      ]
     },
     "execution_count": 211,
     "metadata": {},
     "output_type": "execute_result"
    },
    {
     "data": {
      "image/png": "[encoded data removed]",
      "text/plain": [
       "<Figure size 432x288 with 1 Axes>"
      ]
     },
     "metadata": {
      "needs_background": "light"
     },
     "output_type": "display_data"
    }
   ],
   "source": [
    "# Adjusting classification threshold\n",
    "import matplotlib.pyplot as plt\n",
    "\n",
    "# store the predicted probabilities for class 1\n",
    "y_pred_prob = gpc.predict(X_test)\n",
    "\n",
    "# histogram of predicted probabilities\n",
    "plt.hist(y_pred_prob, )#bins=10)\n",
    "# plt.xlim(0, 1)\n",
    "plt.title('Histogram of predicted probabilities (GPR)')\n",
    "plt.xlabel('Predicted probability of BLL')\n",
    "plt.ylabel('Frequency')"
   ]
  },
  {
   "cell_type": "markdown",
   "metadata": {},
   "source": [
    "## Calculating the classification accuracy"
   ]
  },
  {
   "cell_type": "code",
   "execution_count": 212,
   "metadata": {},
   "outputs": [],
   "source": [
    "TP = 0\n",
    "TN = 0\n",
    "FP = 0\n",
    "FN = 0\n",
    "\n",
    "# Calculating class 0 and class 1 entries with threshold of 0.5\n",
    "\n",
    "y_pred = np.zeros(len(y_pred_prob), dtype=int)\n",
    "\n",
    "for i, prob in enumerate(y_pred_prob):\n",
    "    if prob < 0.5:\n",
    "        y_pred[i] = 0\n",
    "    else: \n",
    "        y_pred[i] = 1\n",
    "\n",
    "# calculate accuracy score with metrics\n",
    "\n",
    "for i, result in enumerate(y_pred):\n",
    "    if result == 1 and y_test[i] == 1:\n",
    "        TP += 1\n",
    "    elif result == 1 and y_test[i] == 0:\n",
    "        FP += 1\n",
    "    elif result == 0 and y_test[i] == 1:\n",
    "        FN += 1\n",
    "    elif result == 0 and y_test[i] == 0:\n",
    "        TN += 1\n"
   ]
  },
  {
   "cell_type": "code",
   "execution_count": 213,
   "metadata": {},
   "outputs": [
    {
     "name": "stdout",
     "output_type": "stream",
     "text": [
      "True Positives: 542\n",
      "True Negatives: 241\n",
      "False Positives: 42\n",
      "False Negatives: 104\n",
      "Classification accuracy\n",
      "0.8428417653390743\n",
      "Classification error / Misclassification Rate\n",
      "0.15715823466092574\n",
      "Sensitivity / True Positive Rate / Recall\n",
      "0.8390092879256966\n",
      "Specificity\n",
      "0.8515901060070671\n",
      "False Positive Rate\n",
      "0.14840989399293286\n",
      "Precision\n",
      "0.928082191780822\n"
     ]
    }
   ],
   "source": [
    "print('True Positives:', TP)\n",
    "print('True Negatives:', TN)\n",
    "print('False Positives:', FP)\n",
    "print('False Negatives:', FN)\n",
    "\n",
    "# Classification accuracy: Overall, how often is the classifier correct?\n",
    "print('Classification accuracy')\n",
    "print((TP + TN) / (TP + TN + FP + FN))\n",
    "\n",
    "# Classification error / Misclassification Rate: Overall, how often is the classifier incorrect?\n",
    "print('Classification error / Misclassification Rate')\n",
    "print((FP + FN) / (TP + TN + FP + FN))\n",
    "\n",
    "# Sensitivity / True Positive Rate / Recall: When the actual value is positive, how often is the prediction correct?\n",
    "print('Sensitivity / True Positive Rate / Recall')\n",
    "print(TP / (TP + FN))\n",
    "\n",
    "# Specificity: When the actual value is negative, how often is the prediction correct?\n",
    "print('Specificity')\n",
    "print(TN / (TN + FP))\n",
    "\n",
    "# False Positive Rate: When the actual value is negative, how often is the prediction incorrect?\n",
    "print('False Positive Rate')\n",
    "print(FP / (TN + FP))\n",
    "\n",
    "# Precision: When a positive value is predicted, how often is the prediction correct?\n",
    "print('Precision')\n",
    "print(TP / (TP + FP))"
   ]
  },
  {
   "cell_type": "markdown",
   "metadata": {},
   "source": [
    "# Confusion matrix time "
   ]
  },
  {
   "cell_type": "code",
   "execution_count": 223,
   "metadata": {},
   "outputs": [
    {
     "name": "stdout",
     "output_type": "stream",
     "text": [
      "0.8428417653390743\n",
      "[[241  42]\n",
      " [104 542]]\n",
      "TP 542\n",
      "TN 241\n",
      "FP 42\n",
      "FN 104\n"
     ]
    },
    {
     "data": {
      "image/png": "[encoded data removed]",
      "text/plain": [
       "<Figure size 720x432 with 2 Axes>"
      ]
     },
     "metadata": {
      "needs_background": "light"
     },
     "output_type": "display_data"
    }
   ],
   "source": [
    "confusion = metrics.confusion_matrix(y_test, y_pred)\n",
    "\n",
    "print(metrics.accuracy_score(y_test, y_pred))\n",
    "print(confusion)\n",
    "\n",
    "labels = ['True Neg','False Pos','False Neg','True Pos']\n",
    "categories = ['Zero', 'One']\n",
    "make_confusion_matrix(confusion, group_names=labels, categories=categories, cmap='Blues', figsize=(10,6))\n",
    "\n",
    "TP = confusion[1, 1]\n",
    "TN = confusion[0, 0]\n",
    "FP = confusion[0, 1]\n",
    "FN = confusion[1, 0]\n",
    "\n",
    "print('TP', TP)\n",
    "print('TN', TN)\n",
    "print('FP', FP)\n",
    "print('FN', FN)"
   ]
  },
  {
   "cell_type": "code",
   "execution_count": 215,
   "metadata": {},
   "outputs": [
    {
     "data": {
      "image/png": "[encoded data removed]",
      "text/plain": [
       "<Figure size 432x288 with 1 Axes>"
      ]
     },
     "metadata": {
      "needs_background": "light"
     },
     "output_type": "display_data"
    }
   ],
   "source": [
    "# ROC Curve\n",
    "\n",
    "# IMPORTANT: first argument is true values, second argument is predicted probabilities\n",
    "fpr, tpr, thresholds = metrics.roc_curve(y_test, y_pred_prob)\n",
    "plt.plot(fpr, tpr)\n",
    "plt.xlim([0.0, 1.0])\n",
    "plt.ylim([0.0, 1.0])\n",
    "plt.title('ROC curve for crossmatch with GPR')\n",
    "plt.xlabel('False Positive Rate (1 - Specificity)')\n",
    "plt.ylabel('True Positive Rate (Sensitivity)')\n",
    "plt.grid(True)"
   ]
  },
  {
   "cell_type": "code",
   "execution_count": 217,
   "metadata": {},
   "outputs": [
    {
     "name": "stdout",
     "output_type": "stream",
     "text": [
      "0.912721942040718\n"
     ]
    }
   ],
   "source": [
    "# Area Under The Curve\n",
    "\n",
    "# IMPORTANT: first argument is true values, second argument is predicted probabilities\n",
    "print(metrics.roc_auc_score(y_test, y_pred_prob))"
   ]
  },
  {
   "cell_type": "markdown",
   "metadata": {},
   "source": [
    "## What about the std of the predicted probabilities? "
   ]
  },
  {
   "cell_type": "code",
   "execution_count": 221,
   "metadata": {},
   "outputs": [
    {
     "name": "stdout",
     "output_type": "stream",
     "text": [
      "[0.34435519 0.28326243 0.27971649 0.26953744 0.31643988 0.3157972\n",
      " 0.2871122  0.25880477 0.29706774 0.27877738 0.28027045 0.27562235\n",
      " 0.28436402 0.27450138 0.28269072 0.29522546 0.27922625 0.3035275\n",
      " 0.24695408 0.28266996 0.2904654  0.25949084 0.25380654 0.27522735\n",
      " 0.29035224 0.27874322 0.28615272 0.27768048 0.28565781 0.30681908\n",
      " 0.2789674  0.27282983 0.28660962 0.2749735  0.30125629 0.31821913\n",
      " 0.25616783 0.32086448 0.38054397 0.2558839  0.27500211 0.26885121\n",
      " 0.26475648 0.26228318 0.29154733 0.27119134 0.31380401 0.25831655\n",
      " 0.27575413 0.30365656 0.26407253 0.27550321 0.28252356 0.29688428\n",
      " 0.29264465 0.25751985 0.25961988 0.27532454 0.25813616 0.36842475\n",
      " 0.26719702 0.31294315 0.27084099 0.28633203 0.31675009 0.31475198\n",
      " 0.34868051 0.26943527 0.2657912  0.27976677 0.27808316 0.28200245\n",
      " 0.27462271 0.26450114 0.28374888 0.27028046 0.31120102 0.27087452\n",
      " 0.33107298 0.30915064 0.28357572 0.28900146 0.29303188 0.2735372\n",
      " 0.28740398 0.26463942 0.32905133 0.27092213 0.27371673 0.27639774\n",
      " 0.26905872 0.28749012 0.30762945 0.26919504 0.27752066 0.26334917\n",
      " 0.29581711 0.30118031 0.27472371 0.27173783 0.27161239 0.27641069\n",
      " 0.28374297 0.26409211 0.29040755 0.27258187 0.27582581 0.28091752\n",
      " 0.28015608 0.29772142 0.32194313 0.27355668 0.26740148 0.27182967\n",
      " 0.28928984 0.26644475 0.26890557 0.27594314 0.27517139 0.27380677\n",
      " 0.27792248 0.29475347 0.2897715  0.2732525  0.28635043 0.31933183\n",
      " 0.27105397 0.32961978 0.28084586 0.28230468 0.28695352 0.25476775\n",
      " 0.28030684 0.26463333 0.39366608 0.3302144  0.33403754 0.30979379\n",
      " 0.32268922 0.27822937 0.36502146 0.28391876 0.27493493 0.32892772\n",
      " 0.32847548 0.24239539 0.26030927 0.27798968 0.33724906 0.29212223\n",
      " 0.28812919 0.28288982 0.29056506 0.27338207 0.28523369 0.26947293\n",
      " 0.29500174 0.28135912 0.3347932  0.31123249 0.24034715 0.44376492\n",
      " 0.39891945 0.30566375 0.25077934 0.377619   0.27376151 0.30391502\n",
      " 0.33500276 0.27897083 0.27685109 0.26914143 0.26678759 0.27371678\n",
      " 0.29474502 0.2957725  0.33106783 0.26081186 0.26822146 0.2953438\n",
      " 0.27542679 0.27266507 0.27680926 0.26902728 0.30120211 0.27068449\n",
      " 0.30364516 0.28770044 0.26751103 0.27186439 0.26803434 0.27582513\n",
      " 0.31421073 0.27345303 0.28441089 0.27381435 0.26386695 0.26779301\n",
      " 0.30112847 0.28930582 0.29666454 0.28246419 0.3636342  0.25836729\n",
      " 0.27814621 0.26961751 0.31335906 0.2654027  0.26892655 0.27877172\n",
      " 0.2615869  0.28121139 0.30589778 0.27251038 0.3742755  0.27989126\n",
      " 0.29258533 0.25923561 0.25564666 0.30700557 0.27619351 0.30781942\n",
      " 0.27201472 0.2713631  0.28712075 0.27368078 0.27662106 0.2712652\n",
      " 0.28656919 0.30047379 0.27609909 0.27828695 0.26311871 0.26015275\n",
      " 0.28889531 0.2789333  0.2819625  0.2843601  0.27493427 0.3260479\n",
      " 0.33597321 0.29372036 0.2737664  0.25922157 0.29834371 0.3331959\n",
      " 0.26946068 0.25811347 0.27851332 0.27229816 0.28851567 0.28305399\n",
      " 0.27758587 0.27801962 0.32088369 0.31117751 0.27991752 0.28494565\n",
      " 0.29353145 0.30449707 0.29788236 0.31504601 0.26926996 0.2929433\n",
      " 0.28213909 0.27684669 0.27500725 0.2822208  0.33221239 0.32345259\n",
      " 0.37434216 0.26338458 0.46116434 0.26540216 0.3193791  0.27472179\n",
      " 0.25114507 0.27067993 0.28433924 0.27091823 0.27443627 0.30439764\n",
      " 0.31407535 0.30657182 0.31750023 0.30532436 0.30174734 0.26413503\n",
      " 0.28531244 0.27168979 0.26532579 0.2932331  0.26630088 0.27322468\n",
      " 0.2749872  0.27545284 0.26702645 0.2602056  0.32554747 0.27507844\n",
      " 0.30299802 0.28780889 0.2758543  0.25754124 0.33201632 0.28717241\n",
      " 0.26422988 0.27682389 0.27948463 0.27207407 0.27375069 0.26131924\n",
      " 0.28497138 0.28436654 0.25624751 0.28414909 0.2697741  0.30336587\n",
      " 0.26971223 0.27784438 0.25851014 0.31283909 0.32991432 0.27183689\n",
      " 0.28223227 0.27327225 0.27218854 0.27556897 0.3303984  0.27412804\n",
      " 0.25708118 0.26697639 0.36136996 0.27006322 0.28950676 0.26180235\n",
      " 0.24785097 0.3259289  0.32016311 0.25640863 0.28983333 0.31285651\n",
      " 0.27329175 0.28692529 0.31288355 0.26370297 0.38299181 0.27624595\n",
      " 0.28378913 0.26643145 0.31233965 0.32671613 0.30591841 0.26229384\n",
      " 0.36290357 0.28843826 0.34383931 0.31769391 0.28653701 0.27339397\n",
      " 0.27610398 0.28155808 0.30522787 0.28530372 0.32380388 0.28605033\n",
      " 0.28540241 0.2886055  0.30752835 0.32579466 0.28327076 0.29033873\n",
      " 0.27991584 0.28386192 0.31928358 0.28672284 0.27540241 0.31284195\n",
      " 0.2715776  0.387919   0.45712827 0.27934479 0.31055167 0.28732132\n",
      " 0.27518705 0.28368692 0.26839273 0.27667739 0.33433928 0.28235114\n",
      " 0.34004316 0.26471391 0.28255712 0.2814796  0.29248624 0.26841158\n",
      " 0.29884183 0.27553076 0.35989303 0.36120281 0.30278646 0.30455492\n",
      " 0.28263763 0.47282963 0.2884439  0.26049957 0.26325957 0.28248936\n",
      " 0.28027592 0.27795399 0.27441839 0.3204975  0.29136447 0.33190311\n",
      " 0.3210671  0.30372331 0.31469213 0.26796237 0.35918251 0.30246057\n",
      " 0.27347636 0.27017342 0.28418198 0.27470097 0.31550488 0.37158253\n",
      " 0.32965609 0.29489917 0.32125763 0.28175786 0.28524116 0.27227535\n",
      " 0.31187078 0.2952588  0.28831425 0.3041182  0.30393252 0.34737151\n",
      " 0.27374392 0.27654422 0.36419815 0.2993611  0.27997053 0.32768633\n",
      " 0.27087271 0.27202865 0.26859061 0.26893588 0.39967587 0.33338606\n",
      " 0.2933917  0.25982452 0.2879854  0.25567405 0.265286   0.27425083\n",
      " 0.35710549 0.42594899 0.28852486 0.27713324 0.32619955 0.29221072\n",
      " 0.28768587 0.31953263 0.31536222 0.27419386 0.30237447 0.30489063\n",
      " 0.29459465 0.27455524 0.31162996 0.28962052 0.29844258 0.26319318\n",
      " 0.31916165 0.27044989 0.28026089 0.27768444 0.37408247 0.32395655\n",
      " 0.2699656  0.2926158  0.2751947  0.27141524 0.28866262 0.38605968\n",
      " 0.28460299 0.36521221 0.26960381 0.58247608 0.3046992  0.28148233\n",
      " 0.29330502 0.27059015 0.26963241 0.68608343 0.29007979 0.31778895\n",
      " 0.28936305 0.31927068 0.27679397 0.26448816 0.28105118 0.30090895\n",
      " 0.26551271 0.41423021 0.29662304 0.29888143 0.26558964 0.30451894\n",
      " 0.26388253 0.33663116 0.32925472 0.2771262  0.25988646 0.25382596\n",
      " 0.28514437 0.29507408 0.28340645 0.27959111 0.27334973 0.28382536\n",
      " 0.30555631 0.28245389 0.28000217 0.29660059 0.27014821 0.32750483\n",
      " 0.29573134 0.35439507 0.31608484 0.26509267 0.29325503 0.2904842\n",
      " 0.27546804 0.2778148  0.2852208  0.32120065 0.29870004 0.30897283\n",
      " 0.3424889  0.35396083 0.36607741 0.57505522 0.3682471  0.30896191\n",
      " 0.2726571  0.2962898  0.28706064 0.29229741 0.28367693 0.27497085\n",
      " 0.29089274 0.33321853 0.26504234 0.30196623 0.38670739 0.26995111\n",
      " 0.28646453 0.26268588 0.33020316 0.27313689 0.31218461 0.27079453\n",
      " 0.29857378 0.27593333 0.3355003  0.33198773 0.43052816 0.27519697\n",
      " 0.29769248 0.28123943 0.29593622 0.27819824 0.2770756  0.28172123\n",
      " 0.34524094 0.29354097 0.31105681 0.32821994 0.2982847  0.27964893\n",
      " 0.29926615 0.3176513  0.26690653 0.32423695 0.27434179 0.33641103\n",
      " 0.28698431 0.37436987 0.3386162  0.27978447 0.29209265 0.32183413\n",
      " 0.26968442 0.30515148 0.32960484 0.27722861 0.35094071 0.3070397\n",
      " 0.26694759 0.31097413 0.30015147 0.30046262 0.28293992 0.29030834\n",
      " 0.28059291 0.37744345 0.27279917 0.28471134 0.28989987 0.29966966\n",
      " 0.29475456 0.33885882 0.32378201 0.33583511 0.26060991 0.30015092\n",
      " 0.31507713 0.51511292 0.32168055 0.36293753 0.28040675 0.28111263\n",
      " 0.27549338 0.27619314 0.35216964 0.37966668 0.29317071 0.306636\n",
      " 0.3075427  0.31227263 0.32949276 0.28664784 0.27951794 0.27885863\n",
      " 0.30663435 0.27772451 0.28729726 0.26485033 0.32900798 0.28183926\n",
      " 0.3697183  0.33834965 0.30344232 0.28864818 0.30225792 0.2793252\n",
      " 0.30399766 0.27195755 0.29545702 0.29417905 0.30411323 0.29708761\n",
      " 0.30743769 0.29698813 0.30439632 0.27470996 0.28649773 0.27412051\n",
      " 0.27979284 0.3144232  0.35589187 0.27432628 0.35810759 0.28986111\n",
      " 0.41590433 0.28351134 0.38772623 0.28818332 0.3216152  0.29349573\n",
      " 0.4654703  0.48439011 0.2796496  0.27418602 0.35863936 0.29415906\n",
      " 0.27183096 0.28377986 0.29092443 0.27953488 0.27861023 0.2769491\n",
      " 0.28222549 0.28217776 0.30825295 0.27569676 0.2785962  0.31592793\n",
      " 0.32448072 0.28411965 0.27316805 0.30204076 0.40896367 0.29670959\n",
      " 0.29681384 0.31122397 0.2642827  0.27038035 0.26430186 0.28626943\n",
      " 0.2509035  0.33827798 0.30543318 0.29533042 0.29704491 0.32989374\n",
      " 0.28748664 0.34507592 0.28103734 0.27943573 0.31182023 0.323047\n",
      " 0.31924411 0.4059694  0.30443171 0.29033353 0.27888732 0.25903452\n",
      " 0.32836802 0.26193782 0.31150742 0.27991123 0.28576199 0.30977262\n",
      " 0.26052113 0.27471922 0.3713583  0.28199645 0.29766745 0.28581285\n",
      " 0.27617791 0.26078674 0.29603567 0.26943699 0.2793165  0.35279721\n",
      " 0.32893857 0.35357891 0.35866712 0.31037447 0.29567941 0.29119349\n",
      " 0.34648524 0.29377491 0.2910441  0.2982095  0.29266834 0.34129488\n",
      " 0.33828178 0.28284415 0.31340176 0.31820666 0.29995383 0.29746267\n",
      " 0.27124589 0.2961893  0.35152214 0.2959419  0.28527286 0.26689193\n",
      " 0.28888312 0.26671863 0.28189194 0.33008601 0.28010242 0.31190056\n",
      " 0.29734674 0.26268916 0.32257387 0.29593975 0.29049977 0.26428777\n",
      " 0.26842029 0.31679455 0.29524572 0.3144434  0.28190572 0.30879987\n",
      " 0.26811479 0.2601743  0.26795896 0.31228947 0.27738373 0.26439499\n",
      " 0.31143275 0.3218643  0.29396176 0.32084514 0.30295876 0.30712474\n",
      " 0.28518555 0.29686555 0.26821475 0.28180289 0.27611459 0.26577835\n",
      " 0.27717147 0.30172133 0.25876677 0.36100399 0.31361622 0.31960626\n",
      " 0.35497996 0.27692181 0.27993136 0.27993523 0.27693043 0.34441319\n",
      " 0.27900156 0.2774081  0.30982283 0.27980474 0.31045709 0.32175505\n",
      " 0.27229354 0.30339541 0.35455221 0.26512642 0.26896821 0.2878132\n",
      " 0.26339702 0.27747427 0.27817527 0.27563328 0.30296162 0.34585394\n",
      " 0.37499615 0.30380523 0.32543144 0.26788585 0.32785285 0.29151\n",
      " 0.29067418 0.29416924 0.27416654 0.28813166 0.30333799 0.32520905\n",
      " 0.35866247 0.30049793 0.27677677 0.29520352 0.27946662 0.3157663\n",
      " 0.31880524 0.30323548 0.28894285 0.27004467 0.28769776 0.27657606\n",
      " 0.28736738 0.28915797 0.37760342 0.31118149 0.32299734 0.32573395\n",
      " 0.33988918 0.26500851 0.27578985 0.2762882  0.33025734 0.30262937\n",
      " 0.40678376 0.30315443 0.54691575 0.26585414 0.48078928 0.32426651\n",
      " 0.30939596 0.32214236 0.28928449 0.29151771 0.27859139 0.28121163\n",
      " 0.44268051 0.28820036 0.28049608 0.3184335  0.35822519 0.27231071\n",
      " 0.30416204 0.28689225 0.2686271  0.33427815 0.27234793 0.4237407\n",
      " 0.36638631 0.29868305 0.30623651 0.27228555 0.27430493 0.34479945\n",
      " 0.27674895 0.32470644 0.32892021 0.37898384 0.28213021 0.27422081\n",
      " 0.30280129 0.28028845 0.27553801 0.30987934 0.28603159 0.3065232\n",
      " 0.31929094 0.27332306 0.33014287 0.28488937 0.30726917 0.32738367\n",
      " 0.27830785 0.28553975 0.30458782 0.32042666 0.32839909 0.26856315\n",
      " 0.27678378 0.32884711 0.26105823 0.28398681 0.33795766 0.29749522\n",
      " 0.36749084 0.28447603 0.2969531  0.28402856 0.26755542]\n"
     ]
    }
   ],
   "source": [
    "# well well well \n",
    "\n",
    "y_pred_prob, y_pred_prob_std = gpc.predict(X_test, return_std=True)\n",
    "print(y_pred_prob_std)"
   ]
  }
 ],
 "metadata": {
  "interpreter": {
   "hash": "f1e297f58f4d648e062bd4580b9c4783c1bbd4d11c9674d491890400154b9033"
  },
  "kernelspec": {
   "display_name": "Python 3.9.7 ('base')",
   "language": "python",
   "name": "python3"
  },
  "language_info": {
   "codemirror_mode": {
    "name": "ipython",
    "version": 3
   },
   "file_extension": ".py",
   "mimetype": "text/x-python",
   "name": "python",
   "nbconvert_exporter": "python",
   "pygments_lexer": "ipython3",
   "version": "3.9.7"
  },
  "orig_nbformat": 4
 },
 "nbformat": 4,
 "nbformat_minor": 2
}
