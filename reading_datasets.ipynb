{
 "cells": [
  {
   "cell_type": "markdown",
   "id": "77d1ea7d",
   "metadata": {},
   "source": [
    "# Counting sources in each macro class"
   ]
  },
  {
   "cell_type": "code",
   "execution_count": 1,
   "id": "52076237",
   "metadata": {},
   "outputs": [],
   "source": [
    "import matplotlib.pyplot as plt\n",
    "from astropy.io import fits\n",
    "\n",
    "DR2 = fits.open('gll_psc_v27.fit')"
   ]
  },
  {
   "cell_type": "markdown",
   "id": "8ad7eec3",
   "metadata": {},
   "source": [
    "## Extracting the data from the file"
   ]
  },
  {
   "cell_type": "code",
   "execution_count": 2,
   "id": "062c8ff1",
   "metadata": {},
   "outputs": [
    {
     "name": "stdout",
     "output_type": "stream",
     "text": [
      "Number of sources: 5788\n",
      "Number of PSR: 271\n",
      "Number of AGN: 3447\n",
      "Number of Blazars: 3436\n",
      "Number of UNC: 1667\n",
      "Number of Other: 403\n"
     ]
    }
   ],
   "source": [
    "data_DR2 = DR2[1].data\n",
    "\n",
    "power_indices = data_DR2['PL_Index']\n",
    "power_indices_len = len(power_indices)\n",
    "print('Number of sources:', power_indices_len)\n",
    "\n",
    "class1 = data_DR2['CLASS1']\n",
    "class2 = data_DR2['CLASS2']\n",
    "PSR = []\n",
    "AGN = []\n",
    "BLAZAR = [] \n",
    "OTHER = []\n",
    "UNC = []\n",
    "\n",
    "for i in class1:\n",
    "    i = i.upper()\n",
    "    if i == 'PSR':\n",
    "        PSR.append(i)\n",
    "    elif i == 'FSRQ' or i == 'BLL' or i == 'BCU':\n",
    "        AGN.append(i)\n",
    "        BLAZAR.append(i)\n",
    "    elif i == 'AGN':\n",
    "        AGN.append(i)\n",
    "    elif i == '':\n",
    "        UNC.append(i)\n",
    "    else:\n",
    "        OTHER.append(i)\n",
    "\n",
    "print('Number of PSR:', len(PSR))\n",
    "print('Number of AGN:', len(AGN))\n",
    "print('Number of Blazars:', len(BLAZAR))\n",
    "print('Number of UNC:', len(UNC))\n",
    "print('Number of Other:', len(OTHER))"
   ]
  },
  {
   "cell_type": "code",
   "execution_count": 3,
   "id": "a8082919",
   "metadata": {},
   "outputs": [
    {
     "name": "stdout",
     "output_type": "stream",
     "text": [
      "Number of sources: 5788\n",
      "Number of PSR: 271\n",
      "Number of AGN: 3508\n",
      "Number of Blazars: 3436\n",
      "Number of UNC: 1667\n",
      "Number of Other: 342\n"
     ]
    }
   ],
   "source": [
    "PSR = 0\n",
    "AGN = 0\n",
    "Blazars = 0\n",
    "UNC = 0\n",
    "Other = 0\n",
    "\n",
    "for i,j in enumerate(class1):\n",
    "    j = j.upper()\n",
    "    if j == 'PSR':\n",
    "        PSR+=1\n",
    "    elif j == 'FSRQ' or j == 'BLL' or j == 'BCU':\n",
    "        AGN+=1\n",
    "        Blazars+=1\n",
    "    elif j == 'AGN' or j == 'RDG' or j == 'CSS' or j == 'SSRQ' or j == 'NLSY1' or j == 'SEY':\n",
    "        AGN+=1\n",
    "    elif j == '':\n",
    "        UNC+=1\n",
    "    else:\n",
    "        Other+=1\n",
    "        \n",
    "print('Number of sources:', len(class1))\n",
    "print('Number of PSR:', PSR)\n",
    "print('Number of AGN:', AGN)\n",
    "print('Number of Blazars:', Blazars)\n",
    "print('Number of UNC:', UNC)\n",
    "print('Number of Other:', Other)"
   ]
  },
  {
   "cell_type": "markdown",
   "id": "86577f19",
   "metadata": {},
   "source": [
    "# Histograms of the PL_Index for BLL and FSRQ Objects\n"
   ]
  },
  {
   "cell_type": "code",
   "execution_count": 4,
   "id": "33cb03f2",
   "metadata": {},
   "outputs": [
    {
     "name": "stdout",
     "output_type": "stream",
     "text": [
      "Number of BLL: 1308\n",
      "Number of FSRQ: 744\n",
      "Number of BCU: 1384\n"
     ]
    },
    {
     "data": {
      "text/plain": [
       "<matplotlib.legend.Legend at 0x28edbbf63a0>"
      ]
     },
     "execution_count": 4,
     "metadata": {},
     "output_type": "execute_result"
    },
    {
     "data": {
      "image/png": "[encoded data removed]",
      "text/plain": [
       "<Figure size 432x288 with 1 Axes>"
      ]
     },
     "metadata": {
      "needs_background": "light"
     },
     "output_type": "display_data"
    }
   ],
   "source": [
    "BLL = []\n",
    "FSRQ = []\n",
    "BCU = []\n",
    "PL_Index_BLL = []\n",
    "PL_Index_FSRQ = []\n",
    "PL_Index_BCU = []\n",
    "\n",
    "for i,j in enumerate(class1):\n",
    "    if j.upper() == 'FSRQ':\n",
    "        FSRQ.append(j)\n",
    "        PL_Index_FSRQ.append(power_indices[i])\n",
    "    elif j.upper() == 'BLL':\n",
    "        BLL.append(j)\n",
    "        PL_Index_BLL.append(power_indices[i])\n",
    "    elif j.upper() == 'BCU':\n",
    "        BCU.append(j)\n",
    "        PL_Index_BCU.append(power_indices[i])\n",
    "        \n",
    "print('Number of BLL:', len(BLL))\n",
    "print('Number of FSRQ:', len(FSRQ))\n",
    "print('Number of BCU:', len(BCU))\n",
    "\n",
    "fig, ax = plt.subplots()\n",
    "ax.hist(PL_Index_FSRQ, color='orange', label='FSRQ')\n",
    "ax.hist(PL_Index_BLL, color='red', label='BLL')\n",
    "ax.hist(PL_Index_BCU, color='black', label='BCU', alpha=0.5)\n",
    "ax.vlines(2.2, 0, 375, linestyle='--', label='$\\Gamma_\\gamma=2.2$')\n",
    "ax.legend()\n",
    "        "
   ]
  },
  {
   "cell_type": "markdown",
   "id": "eaacb9f0",
   "metadata": {},
   "source": [
    "# Now repeating everything with the DR3 set\n"
   ]
  },
  {
   "cell_type": "code",
   "execution_count": 5,
   "id": "0ad38cb3",
   "metadata": {},
   "outputs": [
    {
     "name": "stdout",
     "output_type": "stream",
     "text": [
      "Number of sources: 6659\n",
      "Number of sources: 6659\n",
      "Number of PSR: 137\n",
      "Number of AGN: 3814\n",
      "Number of Blazars: 3743\n",
      "Number of UNC: 2157\n",
      "Number of Other: 551\n"
     ]
    }
   ],
   "source": [
    "DR3 = fits.open('gll_psc_v29.fit')\n",
    "data_DR3 = DR3[1].data\n",
    "\n",
    "power_indices = data_DR3['PL_Index']\n",
    "power_indices_len = len(power_indices)\n",
    "print('Number of sources:', power_indices_len)\n",
    "\n",
    "class1 = data_DR3['CLASS1']\n",
    "class2 = data_DR3['CLASS2']\n",
    "PSR = 0\n",
    "AGN = 0\n",
    "Blazars = 0\n",
    "UNC = 0\n",
    "Other = 0\n",
    "\n",
    "for i,j in enumerate(class1):\n",
    "    j = j.upper()\n",
    "    if j == 'PSR':\n",
    "        PSR+=1\n",
    "    elif j == 'FSRQ' or j == 'BLL' or j == 'BCU':\n",
    "        AGN+=1\n",
    "        Blazars+=1\n",
    "    elif j == 'AGN' or j == 'RDG' or j == 'CSS' or j == 'SSRQ' or j == 'NLSY1' or j == 'SEY':\n",
    "        AGN+=1\n",
    "    elif j == '':\n",
    "        UNC+=1\n",
    "    else:\n",
    "        Other+=1\n",
    "        \n",
    "print('Number of sources:', len(class1))\n",
    "print('Number of PSR:', PSR)\n",
    "print('Number of AGN:', AGN)\n",
    "print('Number of Blazars:', Blazars)\n",
    "print('Number of UNC:', UNC)\n",
    "print('Number of Other:', Other)"
   ]
  },
  {
   "cell_type": "code",
   "execution_count": 6,
   "id": "6c29b134",
   "metadata": {},
   "outputs": [
    {
     "name": "stdout",
     "output_type": "stream",
     "text": [
      "Number of BLL: 1456\n",
      "Number of FSRQ: 794\n",
      "Number of BCU: 1493\n"
     ]
    },
    {
     "data": {
      "text/plain": [
       "<matplotlib.legend.Legend at 0x28ede1d2f40>"
      ]
     },
     "execution_count": 6,
     "metadata": {},
     "output_type": "execute_result"
    },
    {
     "data": {
      "image/png": "[encoded data removed]",
      "text/plain": [
       "<Figure size 432x288 with 1 Axes>"
      ]
     },
     "metadata": {
      "needs_background": "light"
     },
     "output_type": "display_data"
    }
   ],
   "source": [
    "BLL = []\n",
    "FSRQ = []\n",
    "BCU = []\n",
    "PL_Index_BLL = []\n",
    "PL_Index_FSRQ = []\n",
    "PL_Index_BCU = []\n",
    "\n",
    "for i,j in enumerate(class1):\n",
    "    if j.upper() == 'FSRQ':\n",
    "        FSRQ.append(j)\n",
    "        PL_Index_FSRQ.append(power_indices[i])\n",
    "    elif j.upper() == 'BLL':\n",
    "        BLL.append(j)\n",
    "        PL_Index_BLL.append(power_indices[i])\n",
    "    elif j.upper() == 'BCU':\n",
    "        BCU.append(j)\n",
    "        PL_Index_BCU.append(power_indices[i])\n",
    "        \n",
    "print('Number of BLL:', len(BLL))\n",
    "print('Number of FSRQ:', len(FSRQ))\n",
    "print('Number of BCU:', len(BCU))\n",
    "\n",
    "fig, ax = plt.subplots()\n",
    "ax.hist(PL_Index_FSRQ, color='orange', label='FSRQ')\n",
    "ax.hist(PL_Index_BLL, color='red', label='BLL')\n",
    "ax.hist(PL_Index_BCU, color='black', label='BCU', alpha=0.5)\n",
    "ax.vlines(2.2, 0, 400, linestyle='--', label='$\\Gamma_\\gamma=2.2$')\n",
    "ax.legend()"
   ]
  },
  {
   "cell_type": "code",
   "execution_count": null,
   "id": "ef3dd5af",
   "metadata": {},
   "outputs": [],
   "source": []
  }
 ],
 "metadata": {
  "kernelspec": {
   "display_name": "Python 3 (ipykernel)",
   "language": "python",
   "name": "python3"
  },
  "language_info": {
   "codemirror_mode": {
    "name": "ipython",
    "version": 3
   },
   "file_extension": ".py",
   "mimetype": "text/x-python",
   "name": "python",
   "nbconvert_exporter": "python",
   "pygments_lexer": "ipython3",
   "version": "3.9.7"
  }
 },
 "nbformat": 4,
 "nbformat_minor": 5
}
