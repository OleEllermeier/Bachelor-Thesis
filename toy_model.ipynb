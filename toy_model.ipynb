{
 "cells": [
  {
   "cell_type": "markdown",
   "metadata": {},
   "source": [
    "# Testing the GPC on a given toy model\n"
   ]
  },
  {
   "cell_type": "code",
   "execution_count": 103,
   "metadata": {},
   "outputs": [],
   "source": [
    "# importing all needed modules\n",
    "import numpy as np\n",
    "import scipy as sc\n",
    "\n",
    "# defining the used toy model\n",
    "import tensorflow_probability as tfp\n",
    "tfd = tfp.distributions\n",
    "\n",
    "bg_dist = tfd.MultivariateNormalDiag(np.linspace(1., -1, 7), np.linspace(1.1, 0.9, 7))\n",
    "sig_dist = tfd.MultivariateNormalDiag(np.linspace(-1, 1, 7), np.linspace(0.9, 1.1, 7))\n",
    "\n",
    "def generate_data(n, shuffle=True, add_noise=False):\n",
    "    # Sample n bg and signal samples\n",
    "    bg = bg_dist.sample(n).numpy()[..., np.newaxis]\n",
    "    sig = sig_dist.sample(n).numpy()[..., np.newaxis]\n",
    "        \n",
    "    if add_noise:\n",
    "        bg = bg + np.random.normal(0., 0.1, size=bg.shape)\n",
    "        sig = sig + np.random.normal(0., 0.1, size=sig.shape)\n",
    "    \n",
    "    data = np.append(bg, sig, axis=0)\n",
    "    labels = np.append(np.zeros(n), np.ones(n))\n",
    "\n",
    "    if shuffle:\n",
    "        shuffle = np.random.permutation(2 * n)\n",
    "        data = (data[shuffle],)\n",
    "        labels = labels[shuffle]\n",
    "    else:\n",
    "        data = (data, )\n",
    "\n",
    "    return data, labels"
   ]
  },
  {
   "cell_type": "code",
   "execution_count": 104,
   "metadata": {},
   "outputs": [
    {
     "name": "stdout",
     "output_type": "stream",
     "text": [
      "GaussianProcessClassifier()\n"
     ]
    }
   ],
   "source": [
    "# instantiating the gpc estimator\n",
    "from sklearn.gaussian_process import GaussianProcessClassifier\n",
    "\n",
    "gpc = GaussianProcessClassifier()\n",
    "print(gpc)"
   ]
  },
  {
   "cell_type": "code",
   "execution_count": 105,
   "metadata": {},
   "outputs": [
    {
     "name": "stdout",
     "output_type": "stream",
     "text": [
      "(1, 200, 7, 1)\n",
      "(200,)\n",
      "(200, 7)\n",
      "(200,)\n"
     ]
    }
   ],
   "source": [
    "# extracting the data\n",
    "data, labels = generate_data(100, add_noise=True)\n",
    "print(np.shape(data))\n",
    "print(np.shape(labels))\n",
    "\n",
    "X = data[0][:,:,0]\n",
    "y = labels\n",
    "print(np.shape(X))\n",
    "print(np.shape(y))"
   ]
  },
  {
   "cell_type": "code",
   "execution_count": 106,
   "metadata": {},
   "outputs": [
    {
     "data": {
      "text/plain": [
       "GaussianProcessClassifier()"
      ]
     },
     "execution_count": 106,
     "metadata": {},
     "output_type": "execute_result"
    }
   ],
   "source": [
    "# fitting the data\n",
    "gpc.fit(X, y)"
   ]
  },
  {
   "cell_type": "markdown",
   "metadata": {},
   "source": [
    "## evaluation method 1: train and test on the entire dataset"
   ]
  },
  {
   "cell_type": "code",
   "execution_count": 107,
   "metadata": {},
   "outputs": [],
   "source": [
    "# predicting the response values for the observations in X\n",
    "y_pred = gpc.predict(X)\n"
   ]
  },
  {
   "cell_type": "code",
   "execution_count": 108,
   "metadata": {},
   "outputs": [
    {
     "name": "stdout",
     "output_type": "stream",
     "text": [
      "0.99\n"
     ]
    }
   ],
   "source": [
    "# train and test on the entire dataset\n",
    "from sklearn import metrics\n",
    "print(metrics.accuracy_score(y, y_pred))"
   ]
  },
  {
   "cell_type": "markdown",
   "metadata": {},
   "source": [
    "## evaluation method 2: train/test split\n"
   ]
  },
  {
   "cell_type": "code",
   "execution_count": 109,
   "metadata": {},
   "outputs": [],
   "source": [
    "# split X and y intro training and testing sets\n",
    "from sklearn.model_selection import train_test_split\n",
    "X_train, X_test, y_train, y_test = train_test_split(X, y, test_size=0.4)"
   ]
  },
  {
   "cell_type": "code",
   "execution_count": 110,
   "metadata": {},
   "outputs": [
    {
     "data": {
      "text/plain": [
       "GaussianProcessClassifier()"
      ]
     },
     "execution_count": 110,
     "metadata": {},
     "output_type": "execute_result"
    }
   ],
   "source": [
    "# train the gpc on the training set\n",
    "gpc.fit(X_train, y_train)"
   ]
  },
  {
   "cell_type": "code",
   "execution_count": 111,
   "metadata": {},
   "outputs": [
    {
     "name": "stdout",
     "output_type": "stream",
     "text": [
      "0.8875\n"
     ]
    }
   ],
   "source": [
    "# make predictions on the testing set\n",
    "y_pred = gpc.predict(X_test)\n",
    "\n",
    "# compare actual response values with predicted response values\n",
    "print(metrics.accuracy_score(y_test, y_pred))"
   ]
  },
  {
   "cell_type": "code",
   "execution_count": 112,
   "metadata": {},
   "outputs": [
    {
     "name": "stdout",
     "output_type": "stream",
     "text": [
      "Used Kernel: 1**2 * RBF(length_scale=1) Testing accuracy: 0.9\n",
      "Used Kernel: 1**2 * DotProduct(sigma_0=1) Testing accuracy: 0.8875\n",
      "Used Kernel: 1**2 * Matern(length_scale=1, nu=1.5) Testing accuracy: 0.9\n",
      "Used Kernel: 1**2 * WhiteKernel(noise_level=1) Testing accuracy: 0.5125\n"
     ]
    }
   ],
   "source": [
    "# optimizing accuracy by varying the used kernel\n",
    "from sklearn.gaussian_process.kernels import RBF\n",
    "from sklearn.gaussian_process.kernels import DotProduct\n",
    "from sklearn.gaussian_process.kernels import Matern\n",
    "# from sklearn.gaussian_process.kernels import RationalQuadratic\n",
    "from sklearn.gaussian_process.kernels import WhiteKernel\n",
    "\n",
    "kernels = [1*RBF(), 1*DotProduct(), 1*Matern(), 1*WhiteKernel()]\n",
    "\n",
    "for i in kernels:\n",
    "    gpc = GaussianProcessClassifier(kernel=i)\n",
    "    gpc.fit(X_train, y_train)\n",
    "    y_pred = gpc.predict(X_test)\n",
    "    print('Used Kernel:', i, 'Testing accuracy:', metrics.accuracy_score(y_test, y_pred))"
   ]
  },
  {
   "cell_type": "markdown",
   "metadata": {},
   "source": [
    "## using cross validation to reduce the variance of the testing accuracy\n"
   ]
  },
  {
   "cell_type": "code",
   "execution_count": 130,
   "metadata": {},
   "outputs": [
    {
     "name": "stdout",
     "output_type": "stream",
     "text": [
      "Used Kernel: 1**2 * RBF(length_scale=1) Cross-validated accuracy: 0.945\n",
      "Used Kernel: 1**2 * DotProduct(sigma_0=1) Cross-validated accuracy: 0.9399999999999998\n",
      "Used Kernel: 1**2 * Matern(length_scale=1, nu=1.5) Cross-validated accuracy: 0.945\n",
      "Used Kernel: 1**2 * WhiteKernel(noise_level=1) Cross-validated accuracy: 0.5\n"
     ]
    }
   ],
   "source": [
    "from sklearn.model_selection import cross_val_score\n",
    "\n",
    "for i in kernels:\n",
    "    gpc = GaussianProcessClassifier(kernel=i)\n",
    "    print('Used Kernel:', i, 'Cross-validated accuracy:', cross_val_score(gpc, X, y, cv=10, scoring='accuracy').mean())"
   ]
  },
  {
   "cell_type": "code",
   "execution_count": 131,
   "metadata": {},
   "outputs": [
    {
     "name": "stdout",
     "output_type": "stream",
     "text": [
      "Used Kernel: 1**2 * RBF(length_scale=1) RepeatedStratifiedKFold accuracy: 0.9299999999999999\n",
      "Used Kernel: 1**2 * DotProduct(sigma_0=1) RepeatedStratifiedKFold accuracy: 0.9366666666666666\n",
      "Used Kernel: 1**2 * Matern(length_scale=1, nu=1.5) RepeatedStratifiedKFold accuracy: 0.9249999999999997\n",
      "Used Kernel: 1**2 * WhiteKernel(noise_level=1) RepeatedStratifiedKFold accuracy: 0.5\n"
     ]
    }
   ],
   "source": [
    "# using the RepeatedStratifiedKFold as the cross validator\n",
    "from sklearn.model_selection import RepeatedStratifiedKFold\n",
    "\n",
    "cv = RepeatedStratifiedKFold(n_splits=10, n_repeats=3)\n",
    "\n",
    "for i in kernels:\n",
    "    gpc = GaussianProcessClassifier(kernel=i)\n",
    "    print('Used Kernel:', i, 'RepeatedStratifiedKFold accuracy:', cross_val_score(gpc, X, y, cv=cv, scoring='accuracy').mean())\n"
   ]
  },
  {
   "cell_type": "markdown",
   "metadata": {},
   "source": [
    "# Parameter tuning using GridSearchCV: Finding the best kernel\n"
   ]
  },
  {
   "cell_type": "code",
   "execution_count": 118,
   "metadata": {},
   "outputs": [],
   "source": [
    "from sklearn.model_selection import GridSearchCV\n",
    "# create a parameter grid\n",
    "param_grid = dict(kernel=kernels)"
   ]
  },
  {
   "cell_type": "code",
   "execution_count": 122,
   "metadata": {},
   "outputs": [],
   "source": [
    "# Instantiate the grid\n",
    "grid = GridSearchCV(gpc, param_grid, cv=cv, scoring='accuracy')"
   ]
  },
  {
   "cell_type": "code",
   "execution_count": 126,
   "metadata": {},
   "outputs": [
    {
     "data": {
      "text/plain": [
       "GridSearchCV(cv=RepeatedStratifiedKFold(n_repeats=3, n_splits=10, random_state=None),\n",
       "             estimator=GaussianProcessClassifier(kernel=1**2 * WhiteKernel(noise_level=1)),\n",
       "             param_grid={'kernel': [1**2 * RBF(length_scale=1),\n",
       "                                    1**2 * DotProduct(sigma_0=1),\n",
       "                                    1**2 * Matern(length_scale=1, nu=1.5),\n",
       "                                    1**2 * WhiteKernel(noise_level=1)]},\n",
       "             scoring='accuracy')"
      ]
     },
     "execution_count": 126,
     "metadata": {},
     "output_type": "execute_result"
    }
   ],
   "source": [
    "# Fit the grid with data\n",
    "grid.fit(X, y)"
   ]
  },
  {
   "cell_type": "code",
   "execution_count": 127,
   "metadata": {},
   "outputs": [
    {
     "name": "stdout",
     "output_type": "stream",
     "text": [
      "Best score: 0.9283333333333332\n",
      "Best kernel: {'kernel': 1**2 * RBF(length_scale=1)}\n"
     ]
    }
   ],
   "source": [
    "# examine the best model\n",
    "print('Best score:', grid.best_score_)\n",
    "print('Best kernel:', grid.best_params_)"
   ]
  }
 ],
 "metadata": {
  "interpreter": {
   "hash": "9319f03e90d16b27e26117b6c8d8994549cddb0a3bf3db70a15023b31f12621b"
  },
  "kernelspec": {
   "display_name": "Python 3.9.7 ('base')",
   "language": "python",
   "name": "python3"
  },
  "language_info": {
   "codemirror_mode": {
    "name": "ipython",
    "version": 3
   },
   "file_extension": ".py",
   "mimetype": "text/x-python",
   "name": "python",
   "nbconvert_exporter": "python",
   "pygments_lexer": "ipython3",
   "version": "3.9.7"
  },
  "orig_nbformat": 4
 },
 "nbformat": 4,
 "nbformat_minor": 2
}
